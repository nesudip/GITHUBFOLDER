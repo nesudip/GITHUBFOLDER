{
 "cells": [
  {
   "cell_type": "markdown",
   "metadata": {},
   "source": [
    "W E L C O M E     I N     P H Y T H O N      S E T     N O T E"
   ]
  },
  {
   "cell_type": "markdown",
   "metadata": {},
   "source": [
    "* Python Sets\n",
    "\n",
    "* Set\n",
    "Sets are used to store multiple items in a single variable.\n",
    "\n",
    "Set is one of 4 built-in data types in Python used to store collections of data, the other 3 are List, Tuple, and Dictionary, all with different qualities and usage.\n",
    "\n",
    "A set is a collection which is unordered, unchangeable*, and unindexed.\n",
    "\n",
    "* Note: Set items are unchangeable, but you can remove items and add new items.\n",
    "          Sets are written with curly brackets."
   ]
  },
  {
   "cell_type": "code",
   "execution_count": 1,
   "metadata": {},
   "outputs": [
    {
     "name": "stdout",
     "output_type": "stream",
     "text": [
      "{'apple', 'banana', 'cherry'}\n"
     ]
    }
   ],
   "source": [
    "# Example\n",
    "# Create a Set:\n",
    "\n",
    "thisset = {\"apple\", \"banana\", \"cherry\"}\n",
    "print(thisset)"
   ]
  },
  {
   "cell_type": "markdown",
   "metadata": {},
   "source": [
    "* Set Items\n",
    "Set items are unordered, unchangeable, and do not allow duplicate values.\n",
    "\n",
    "1) Unordered\n",
    "Unordered means that the items in a set do not have a defined order.\n",
    "\n",
    "Set items can appear in a different order every time you use them, and cannot be referred to by index or key.\n",
    "\n",
    "2) Unchangeable\n",
    "Set items are unchangeable, meaning that we cannot change the items after the set has been created.\n",
    "\n",
    "Once a set is created, you cannot change its items, but you can remove items and add new items.\n",
    "\n",
    "\n",
    "* Duplicates Not Allowed\n",
    "Sets cannot have two items with the same value.\n",
    "\n"
   ]
  },
  {
   "cell_type": "code",
   "execution_count": 4,
   "metadata": {},
   "outputs": [
    {
     "name": "stdout",
     "output_type": "stream",
     "text": [
      "{'banana', 'cherry', 'apple'}\n",
      "{True, 2, 'cherry', 'apple', 'banana'}\n",
      "{False, True, 'cherry', 'apple', 'banana'}\n"
     ]
    }
   ],
   "source": [
    "# Example\n",
    "# Duplicate values will be ignored:\n",
    "\n",
    "thisset = {\"apple\", \"banana\", \"cherry\", \"apple\"}\n",
    "\n",
    "print(thisset)\n",
    "\n",
    "#Note: The values True and 1 are considered the same value in sets, and are treated as duplicates:\n",
    "\n",
    "#  True and 1 is considered the same value:\n",
    "thisset = {\"apple\", \"banana\", \"cherry\", True, 1, 2}\n",
    "\n",
    "print(thisset)\n",
    "\n",
    "#False and 0 is considered the same value:\n",
    "\n",
    "thisset = {\"apple\", \"banana\", \"cherry\", False, True, 0}\n",
    "\n",
    "print(thisset)\n",
    "\n"
   ]
  },
  {
   "cell_type": "markdown",
   "metadata": {},
   "source": [
    "* Get the Length of a Set\n",
    "To determine how many items a set has, use the len() function."
   ]
  },
  {
   "cell_type": "code",
   "execution_count": 5,
   "metadata": {},
   "outputs": [
    {
     "name": "stdout",
     "output_type": "stream",
     "text": [
      "3\n"
     ]
    }
   ],
   "source": [
    "#Get the number of items in a set:\n",
    "\n",
    "thisset = {\"apple\", \"banana\", \"cherry\"}\n",
    "\n",
    "print(len(thisset))"
   ]
  },
  {
   "cell_type": "markdown",
   "metadata": {},
   "source": [
    "* Python Collections (Arrays)\n",
    "There are four collection data types in the Python programming language:\n",
    "\n",
    "1)List) is a collection which is ordered and changeable. Allows duplicate members.\n",
    "2)Tuple) is a collection which is ordered and unchangeable. Allows duplicate members.\n",
    "3)Set )is a collection which is unordered, unchangeable*, and unindexed. No duplicate members.\n",
    "4)Dictionary) is a collection which is ordered** and changeable. No duplicate members."
   ]
  },
  {
   "cell_type": "markdown",
   "metadata": {},
   "source": [
    "* Python - Access Set Items\n",
    "\n",
    "* Access Items\n",
    "You cannot access items in a set by referring to an index or a key.\n",
    "\n",
    "But you can loop through the set items using a for loop, or ask if a specified value is present in a set, by using the in keyword."
   ]
  },
  {
   "cell_type": "code",
   "execution_count": 17,
   "metadata": {},
   "outputs": [
    {
     "name": "stdout",
     "output_type": "stream",
     "text": [
      "phtyhon\n",
      "java\n",
      "c++\n",
      "True\n",
      "False\n"
     ]
    }
   ],
   "source": [
    "# Example\n",
    "# Loop through the set, and print the values:\n",
    "\n",
    "thisset = {\"c++\", \"phtyhon\", \"java\"}\n",
    "\n",
    "for x in thisset:\n",
    "  print(x)\n",
    "\n",
    "\n",
    "# Check if \"java\" is  present in the set:\n",
    "\n",
    "thisset = {\"c++\", \"phy\", \"java\"}\n",
    "\n",
    "print(\"java\" in thisset)\n",
    "\n",
    "# Check if \"java\" is not present in the set:\n",
    "thisset ={\"c++\", \"phy\", \"java\"}\n",
    "\n",
    "print(\"java\" not in thisset)"
   ]
  },
  {
   "cell_type": "markdown",
   "metadata": {},
   "source": [
    "* Python - Add Set Items\n",
    "Add Items\n",
    "Once a set is created, you cannot change its items, but you can add new items.\n",
    "\n",
    "To add one item to a set use the add() method."
   ]
  },
  {
   "cell_type": "code",
   "execution_count": 23,
   "metadata": {},
   "outputs": [
    {
     "name": "stdout",
     "output_type": "stream",
     "text": [
      "{'sudip', 'devprasad', 'shanta', 'sujata', 'sujan'}\n"
     ]
    }
   ],
   "source": [
    "thisset ={\"sujan\",\"sujata\",\"shanta\"}\n",
    "thisset .add(\"sudip\")\n",
    "thisset .add(\"devprasad\")\n",
    "print(thisset)"
   ]
  },
  {
   "cell_type": "markdown",
   "metadata": {},
   "source": [
    "* Add Sets\n",
    "To add items from another set into the current set, use the update() method."
   ]
  },
  {
   "cell_type": "code",
   "execution_count": 28,
   "metadata": {},
   "outputs": [
    {
     "name": "stdout",
     "output_type": "stream",
     "text": [
      "{'mango', 'cherry', 'apple', 'papaya', 'banana', 'pineapple'}\n"
     ]
    }
   ],
   "source": [
    "# Add elements from tropical into thisset:\n",
    "\n",
    "thisset = {\"apple\", \"banana\", \"cherry\"}\n",
    "tropical = {\"pineapple\", \"mango\", \"papaya\"}\n",
    "\n",
    "thisset.update(tropical)\n",
    "\n",
    "print(thisset)"
   ]
  },
  {
   "cell_type": "markdown",
   "metadata": {},
   "source": [
    "* Add Any Iterable\n",
    "The object in the update() method does not have to be a set, it can be any iterable object (tuples, lists, dictionaries etc.)."
   ]
  },
  {
   "cell_type": "code",
   "execution_count": 29,
   "metadata": {},
   "outputs": [
    {
     "name": "stdout",
     "output_type": "stream",
     "text": [
      "{'banana', 'kiwi', 'orange', 'cherry', 'apple'}\n"
     ]
    }
   ],
   "source": [
    "# Add elements of a list to at set:\n",
    "\n",
    "thisset = {\"apple\", \"banana\", \"cherry\"}\n",
    "mylist = [\"kiwi\", \"orange\"]\n",
    "\n",
    "thisset.update(mylist)\n",
    "\n",
    "print(thisset)"
   ]
  },
  {
   "cell_type": "markdown",
   "metadata": {},
   "source": [
    "* Python - Remove Set Items\n",
    "Remove Item\n",
    "\n",
    "To remove an item in a set, use the remove(), or the discard() method."
   ]
  },
  {
   "cell_type": "code",
   "execution_count": 31,
   "metadata": {},
   "outputs": [
    {
     "name": "stdout",
     "output_type": "stream",
     "text": [
      "{'apple', 'cherry'}\n"
     ]
    }
   ],
   "source": [
    "#Remove \"banana\" by using the remove() method:\n",
    "\n",
    "thisset = {\"apple\", \"banana\", \"cherry\"}\n",
    "\n",
    "thisset.remove(\"banana\")\n",
    "\n",
    "print(thisset)\n"
   ]
  },
  {
   "cell_type": "markdown",
   "metadata": {},
   "source": [
    "* You can also use the pop() method to remove an item, but this method will remove a random item, so you cannot be sure what item that gets removed.\n",
    "\n",
    "The return value of the pop() method is the removed item."
   ]
  },
  {
   "cell_type": "code",
   "execution_count": 37,
   "metadata": {},
   "outputs": [
    {
     "name": "stdout",
     "output_type": "stream",
     "text": [
      "banana\n",
      "{'cherry', 'apple'}\n",
      "set()\n"
     ]
    }
   ],
   "source": [
    "#  Remove a random item by using the pop() method:\n",
    "\n",
    "thisset = {\"apple\", \"banana\", \"cherry\"}\n",
    "\n",
    "x = thisset.pop()\n",
    "\n",
    "print(x)\n",
    "\n",
    "print(thisset)\n",
    "\n",
    "# The clear() method empties the set:\n",
    "\n",
    "thisset = {\"apple\", \"banana\", \"cherry\"}\n",
    "\n",
    "thisset.clear()\n",
    "\n",
    "print(thisset)"
   ]
  },
  {
   "cell_type": "markdown",
   "metadata": {},
   "source": [
    "* Python - Loop Sets\n",
    "Loop Items\n",
    "You can loop through the set items by using a for loop:"
   ]
  },
  {
   "cell_type": "code",
   "execution_count": 40,
   "metadata": {},
   "outputs": [
    {
     "name": "stdout",
     "output_type": "stream",
     "text": [
      "banana\n",
      "cherry\n",
      "apple\n"
     ]
    }
   ],
   "source": [
    "# Loop through the set, and print the values:\n",
    "\n",
    "thisset = {\"apple\", \"banana\", \"cherry\"}\n",
    "\n",
    "for x in thisset:\n",
    "  print(x)"
   ]
  },
  {
   "cell_type": "markdown",
   "metadata": {},
   "source": [
    "* Python - Join Sets\n",
    "Join Sets\n",
    "There are several ways to join two or more sets in Python.\n",
    "\n",
    "The union() and update() methods joins all items from both sets.\n",
    "\n",
    "The intersection() method keeps ONLY the duplicates.\n",
    "\n",
    "The difference() method keeps the items from the first set that are not in the other set(s).\n",
    "\n",
    "The symmetric_difference() method keeps all items EXCEPT the duplicates.\n",
    "\n",
    "\n",
    "* Union\n",
    "The union() method returns a new set with all items from both sets."
   ]
  },
  {
   "cell_type": "code",
   "execution_count": 42,
   "metadata": {},
   "outputs": [
    {
     "name": "stdout",
     "output_type": "stream",
     "text": [
      "{1, 2, 3, 'a', 'b', 'c'}\n",
      "{1, 2, 3, 'a', 'b', 'c'}\n"
     ]
    }
   ],
   "source": [
    "# Join set1 and set2 into a new set:\n",
    "\n",
    "set1 = {\"a\", \"b\", \"c\"}\n",
    "set2 = {1, 2, 3}\n",
    "\n",
    "set3 = set1.union(set2)\n",
    "print(set3)\n",
    "\n",
    "#You can use the | operator instead of the union() method, and you will get the same result.\n",
    "# example\n",
    "# Use | to join two sets:\n",
    "\n",
    "set1 = {\"a\", \"b\", \"c\"}\n",
    "set2 = {1, 2, 3}\n",
    "\n",
    "set3 = set1 | set2\n",
    "print(set3)"
   ]
  },
  {
   "cell_type": "markdown",
   "metadata": {},
   "source": [
    "* Join Multiple Sets\n",
    "All the joining methods and operators can be used to join multiple sets.\n",
    "\n",
    "When using a method, just add more sets in the parentheses, separated by commas:"
   ]
  },
  {
   "cell_type": "code",
   "execution_count": 45,
   "metadata": {},
   "outputs": [
    {
     "name": "stdout",
     "output_type": "stream",
     "text": [
      "{1, 2, 3, 'bananas', 'Elena', 'b', 'c', 'cherry', 'a', 'John', 'apple'}\n",
      "{1, 2, 3, 'bananas', 'Elena', 'b', 'c', 'cherry', 'a', 'John', 'apple'}\n"
     ]
    }
   ],
   "source": [
    "#Join multiple sets with the union() method:\n",
    "\n",
    "set1 = {\"a\", \"b\", \"c\"}\n",
    "set2 = {1, 2, 3}\n",
    "set3 = {\"John\", \"Elena\"}\n",
    "set4 = {\"apple\", \"bananas\", \"cherry\"}\n",
    "\n",
    "myset = set1.union(set2, set3, set4)\n",
    "print(myset)\n",
    "\n",
    "\n",
    "#When using the | operator, separate the sets with more | operators:\n",
    "\n",
    "#Example\n",
    "#Use | to join two sets:\n",
    "\n",
    "set1 = {\"a\", \"b\", \"c\"}\n",
    "set2 = {1, 2, 3}\n",
    "set3 = {\"John\", \"Elena\"}\n",
    "set4 = {\"apple\", \"bananas\", \"cherry\"}\n",
    "\n",
    "myset = set1 | set2 | set3 |set4\n",
    "print(myset)"
   ]
  },
  {
   "cell_type": "markdown",
   "metadata": {},
   "source": [
    "* Join a Set and a Tuple\n",
    "The union() method allows you to join a set with other data types, like lists or tuples.\n",
    "\n",
    "The result will be a set."
   ]
  },
  {
   "cell_type": "code",
   "execution_count": 46,
   "metadata": {},
   "outputs": [
    {
     "name": "stdout",
     "output_type": "stream",
     "text": [
      "{1, 2, 3, 'b', 'c', 'a'}\n"
     ]
    }
   ],
   "source": [
    "# Join a set with a tuple:\n",
    "\n",
    "x = {\"a\", \"b\", \"c\"}\n",
    "y = (1, 2, 3)\n",
    "\n",
    "z = x.union(y)\n",
    "print(z)"
   ]
  },
  {
   "cell_type": "markdown",
   "metadata": {},
   "source": [
    "* Update\n",
    "The update() method inserts all items from one set into another.\n",
    "\n",
    "The update() changes the original set, and does not return a new set."
   ]
  },
  {
   "cell_type": "code",
   "execution_count": 47,
   "metadata": {},
   "outputs": [
    {
     "name": "stdout",
     "output_type": "stream",
     "text": [
      "{1, 2, 3, 'a', 'b', 'c'}\n"
     ]
    }
   ],
   "source": [
    "# The update() method inserts the items in set2 into set1:\n",
    "\n",
    "set1 = {\"a\", \"b\" , \"c\"}\n",
    "set2 = {1, 2, 3}\n",
    "\n",
    "set1.update(set2)\n",
    "print(set1)\n",
    "\n",
    "# Note: Both union() and update() will exclude any duplicate items."
   ]
  },
  {
   "cell_type": "markdown",
   "metadata": {},
   "source": [
    "* phython - Set Methods\n",
    "Set Methods\n",
    "Python has a set of built-in methods that you can use on sets.\n",
    "\n",
    "Method\t              Shortcut\t                        Description\n",
    "add()\t \t                           Adds an element to the set\n",
    "clear()\t \t                          Removes all the elements from the set\n",
    "copy()\t \t                          Returns a copy of the set\n",
    "difference()\t        -\t          Returns a set containing the difference between two or more sets\n",
    "difference_update()\t   -=\t           Removes the items in this set that are also included in another, specified set\n",
    "discard()\t \t                      Remove the specified item\n",
    "intersection()\t        &\t          Returns a set, that is the intersection of two other sets\n",
    "intersection_update()\t&=\t          Removes the items in this set that are not present in other, specified set(s)\n",
    "isdisjoint()\t \t                  Returns whether two sets have a intersection or not\n",
    "issubset()\t                          Returns whether another set contains this set or not\n",
    " \t                    <\t         Returns whether all items in this set is present in other, specified set(s)\n",
    "issuperset()\t        >=\t         Returns whether this set contains another set or not\n",
    " \t                    >\t          Returns whether all items in other, specified set(s) is present in this set\n",
    "pop()\t \t                          Removes an element from the set\n",
    "remove()\t \t                      Removes the specified element\n",
    "symmetric_difference()\t         ^\t   Returns a set with the symmetric differences of two sets\n",
    "symmetric_difference_update()\t^=\t    Inserts the symmetric differences from this set and another\n",
    "union()\t                         |\t     Return a set containing the union of sets\n",
    "update()                     \t|=\t     Update the set with the union of this set and others\n"
   ]
  },
  {
   "cell_type": "markdown",
   "metadata": {},
   "source": [
    "* Python - Set Exercises\n",
    "Test Yourself With Exercises\n",
    "Now you have learned a lot about sets, and how to use them in Python.\n",
    "\n",
    "Are you ready for a test?\n",
    "\n",
    "Try to insert the missing part to make the code work as expected:"
   ]
  },
  {
   "cell_type": "code",
   "execution_count": 55,
   "metadata": {},
   "outputs": [
    {
     "name": "stdout",
     "output_type": "stream",
     "text": [
      "Yes, apple is a fruit!\n",
      "{'orange', 'banana', 'cherry', 'apple'}\n",
      "{'grapes', 'banana', 'mango', 'orange', 'cherry', 'apple'}\n",
      "{'cherry', 'apple'}\n",
      "{'cherry', 'apple'}\n"
     ]
    }
   ],
   "source": [
    "# Check if \"apple\" is present in the fruits set.\n",
    "\n",
    "fruits = {\"apple\", \"banana\", \"cherry\"}\n",
    "if \"apple\" in fruits:\n",
    "    print(\"Yes, apple is a fruit!\")\n",
    "\n",
    "\n",
    "# Use the add method to add \"orange\" to the fruits set & print it.\n",
    "fruits = {\"apple\", \"banana\", \"cherry\"}\n",
    "fruits.add(\"orange\")\n",
    "print(fruits)\n",
    "\n",
    "# Use the correct method to add multiple items (more_fruits) to the fruits set.\n",
    "fruits = {\"apple\", \"banana\", \"cherry\"}\n",
    "more_fruits = [\"orange\", \"mango\", \"grapes\"]\n",
    "fruits .update(more_fruits)\n",
    "print(fruits)\n",
    "\n",
    "# Use the remove method to remove \"banana\" from the fruits set.\n",
    "fruits = {\"apple\", \"banana\", \"cherry\"}\n",
    "fruits.remove(\"banana\")\n",
    "print(fruits)\n",
    "\n",
    "# Use the discard method to remove \"banana\" from the fruits set.\n",
    "fruits = {\"apple\", \"banana\", \"cherry\"}\n",
    "fruits.discard(\"banana\")\n",
    "print(fruits)\n"
   ]
  },
  {
   "cell_type": "markdown",
   "metadata": {},
   "source": [
    "                   T  H  A  N  K    Y  O  U"
   ]
  }
 ],
 "metadata": {
  "kernelspec": {
   "display_name": "Python 3",
   "language": "python",
   "name": "python3"
  },
  "language_info": {
   "codemirror_mode": {
    "name": "ipython",
    "version": 3
   },
   "file_extension": ".py",
   "mimetype": "text/x-python",
   "name": "python",
   "nbconvert_exporter": "python",
   "pygments_lexer": "ipython3",
   "version": "3.11.4"
  }
 },
 "nbformat": 4,
 "nbformat_minor": 2
}
