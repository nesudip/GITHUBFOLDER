{
 "cells": [
  {
   "cell_type": "markdown",
   "metadata": {},
   "source": [
    "            W E L C O M E        IN          IF ELSE           NOTE'S"
   ]
  },
  {
   "cell_type": "markdown",
   "metadata": {},
   "source": [
    "* Python If ... Else\n",
    "Python Conditions and If statements\n"
   ]
  },
  {
   "cell_type": "markdown",
   "metadata": {},
   "source": [
    "* Python supports the usual logical conditions from mathematics:\n",
    "\n",
    "Equals:        a == b\n",
    "Not Equals:    a != b\n",
    "Less than:     a < b\n",
    "Less than or equal to:    a <= b\n",
    "Greater than:             a > b\n",
    "Greater than or equal to: a >= b\n",
    "These conditions can be used in several ways, most commonly in \"if statements\" and loops.\n",
    "\n",
    "An \"if statement\" is written by using the if keyword."
   ]
  },
  {
   "cell_type": "code",
   "execution_count": 10,
   "metadata": {},
   "outputs": [
    {
     "name": "stdout",
     "output_type": "stream",
     "text": [
      "a is greater then b\n"
     ]
    }
   ],
   "source": [
    "# EXAMPLE\n",
    "#If statement:\n",
    "\n",
    "a=90\n",
    "b=80\n",
    "if a>b:\n",
    "    print(\"a is greater then b\")\n",
    "if a<b:\n",
    "    print(\"a is less then b\")\n",
    "\n",
    "    "
   ]
  },
  {
   "cell_type": "markdown",
   "metadata": {},
   "source": [
    "* Elif\n",
    "\n",
    "The elif keyword is Python's way of saying \"if the previous conditions were not true, then try this condition\"."
   ]
  },
  {
   "cell_type": "code",
   "execution_count": 11,
   "metadata": {},
   "outputs": [
    {
     "name": "stdout",
     "output_type": "stream",
     "text": [
      "a is less then b\n"
     ]
    }
   ],
   "source": [
    "# for example \n",
    "a=90\n",
    "b=100\n",
    "if (a<b):\n",
    "    print(\"a is less then b\")\n",
    "elif(a==b):\n",
    "    print(\" a is equal to b\")\n"
   ]
  },
  {
   "cell_type": "markdown",
   "metadata": {},
   "source": [
    "* Else\n",
    "\n",
    "The else keyword catches anything which isn't caught by the preceding conditions."
   ]
  },
  {
   "cell_type": "code",
   "execution_count": 15,
   "metadata": {},
   "outputs": [
    {
     "name": "stdout",
     "output_type": "stream",
     "text": [
      "both are equal\n",
      "both are same name\n"
     ]
    }
   ],
   "source": [
    "# example\n",
    "# check the number and print if this number is equal greater or less then:\n",
    "a=100\n",
    "b=100\n",
    "if(a<b):\n",
    "    print(\"a is greater then b\")\n",
    "elif(a>b):\n",
    "    print(\" b is greater then a\")\n",
    "else:\n",
    "    print(\"both are equal\")\n",
    "\n",
    "    \n",
    "  # check the name if both name are same then print both name are same otherwise print they are not same name:  \n",
    "    a=\"sudip\"\n",
    "    b= \"sudip\"\n",
    "    if(a>b):\n",
    "        print(\" a is same with b\")\n",
    "    elif(a<b):\n",
    "        print(\"both are not same name\")\n",
    "    else:\n",
    "        print(\"both are same name\")\n"
   ]
  },
  {
   "cell_type": "markdown",
   "metadata": {},
   "source": [
    "* In this example a is greater than b, so the first condition is not true, also the elif condition is not true, so we go to the else condition and print to screen that \"a is greater than b\".\n",
    "\n",
    "You can also have an else without the elif:"
   ]
  },
  {
   "cell_type": "code",
   "execution_count": 17,
   "metadata": {},
   "outputs": [
    {
     "name": "stdout",
     "output_type": "stream",
     "text": [
      "a is greater then b\n"
     ]
    }
   ],
   "source": [
    "# EXAMPLE\n",
    "# check the number wich is greater\n",
    "a=90\n",
    "b=10\n",
    "if(a>b):\n",
    "    print(\"a is greater then b\")\n",
    "else:\n",
    "    print(\"b is greater then a\")"
   ]
  },
  {
   "cell_type": "markdown",
   "metadata": {},
   "source": [
    "* And\n",
    "The and keyword is a logical operator, and is used to combine conditional statements:"
   ]
  },
  {
   "cell_type": "code",
   "execution_count": 18,
   "metadata": {},
   "outputs": [
    {
     "name": "stdout",
     "output_type": "stream",
     "text": [
      "both statement are true\n"
     ]
    }
   ],
   "source": [
    "# example\n",
    "#Test if a is greater than b, AND if c is greater than a:\n",
    "a=100\n",
    "b=200\n",
    "c=300\n",
    "if(a<b)and(c>a):\n",
    "    print(\"both statement are true\")\n",
    "else:\n",
    "    print(\"both statement are false\")\n"
   ]
  },
  {
   "cell_type": "markdown",
   "metadata": {},
   "source": [
    "* Or\n",
    "The or keyword is a logical operator, and is used to combine conditional statements:"
   ]
  },
  {
   "cell_type": "code",
   "execution_count": 23,
   "metadata": {},
   "outputs": [
    {
     "name": "stdout",
     "output_type": "stream",
     "text": [
      "at list a is greater\n"
     ]
    }
   ],
   "source": [
    "# Example\n",
    "#Test if a is greater than b, OR if a is greater than c:\n",
    "a=200\n",
    "b=100\n",
    "c=50\n",
    "if(a>b)or(a<c):\n",
    "    print(\"at list a is greater\")\n",
    "else:\n",
    "    print(\"this is incorect info plz check the number again\")"
   ]
  },
  {
   "cell_type": "markdown",
   "metadata": {},
   "source": [
    "* Not\n",
    "\n",
    "The not keyword is a logical operator, and is used to reverse the result of the conditional statement:"
   ]
  },
  {
   "cell_type": "code",
   "execution_count": 24,
   "metadata": {},
   "outputs": [
    {
     "name": "stdout",
     "output_type": "stream",
     "text": [
      "a is NOT greater than b\n"
     ]
    }
   ],
   "source": [
    "#Test if a is NOT greater than b:\n",
    "\n",
    "a = 33\n",
    "b = 200\n",
    "if not a > b:\n",
    "  print(\"a is NOT greater than b\")"
   ]
  },
  {
   "cell_type": "markdown",
   "metadata": {},
   "source": [
    "* Nested If\n",
    "You can have if statements inside if statements, this is called nested if statements."
   ]
  },
  {
   "cell_type": "code",
   "execution_count": 25,
   "metadata": {},
   "outputs": [
    {
     "name": "stdout",
     "output_type": "stream",
     "text": [
      "Above ten,\n",
      "and also above 20!\n"
     ]
    }
   ],
   "source": [
    "\n",
    "#example \n",
    "x = 41\n",
    "if x > 10:\n",
    "  print(\"Above ten,\")\n",
    "  if x > 20:\n",
    "    print(\"and also above 20!\")\n",
    "  else:\n",
    "    print(\"but not above 20.\")"
   ]
  },
  {
   "cell_type": "markdown",
   "metadata": {},
   "source": [
    "                                 T H A N K        Y O U"
   ]
  }
 ],
 "metadata": {
  "kernelspec": {
   "display_name": "Python 3",
   "language": "python",
   "name": "python3"
  },
  "language_info": {
   "codemirror_mode": {
    "name": "ipython",
    "version": 3
   },
   "file_extension": ".py",
   "mimetype": "text/x-python",
   "name": "python",
   "nbconvert_exporter": "python",
   "pygments_lexer": "ipython3",
   "version": "3.11.4"
  }
 },
 "nbformat": 4,
 "nbformat_minor": 2
}
