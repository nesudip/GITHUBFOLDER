{
 "cells": [
  {
   "cell_type": "code",
   "execution_count": 29,
   "metadata": {},
   "outputs": [
    {
     "name": "stdout",
     "output_type": "stream",
     "text": [
      "49\n"
     ]
    }
   ],
   "source": [
    "a=29\n",
    "b=20\n",
    "c=a+b\n",
    "\n",
    "print(a+b)\n"
   ]
  },
  {
   "cell_type": "code",
   "execution_count": 30,
   "metadata": {},
   "outputs": [
    {
     "name": "stdout",
     "output_type": "stream",
     "text": [
      "apple\n",
      "banana\n",
      "cherry\n"
     ]
    }
   ],
   "source": [
    "#Print all items, using a while loop to go through all the index numbers\n",
    "\n",
    "thislist = [\"apple\", \"banana\", \"cherry\"]\n",
    "i = 0\n",
    "while i < len(thislist):\n",
    "  print(thislist[i])\n",
    "  i = i + 1"
   ]
  },
  {
   "cell_type": "code",
   "execution_count": 31,
   "metadata": {},
   "outputs": [
    {
     "name": "stdout",
     "output_type": "stream",
     "text": [
      "['apple', 'banana', 'mango']\n"
     ]
    }
   ],
   "source": [
    "#With list comprehension you can do all that with only one line of code:\n",
    "fruits = [\"apple\", \"banana\", \"cherry\", \"kiwi\", \"mango\"]\n",
    "newlist = []\n",
    "\n",
    "for x in fruits:\n",
    "  if \"a\" in x:\n",
    "    newlist.append(x)\n",
    "\n",
    "print(newlist)"
   ]
  },
  {
   "cell_type": "code",
   "execution_count": 32,
   "metadata": {},
   "outputs": [
    {
     "name": "stdout",
     "output_type": "stream",
     "text": [
      "['devprasad', 'shanta', 'sudip', 'sujan', 'sujata']\n"
     ]
    }
   ],
   "source": [
    "#Sort the list alphabetically:\n",
    "\n",
    "thislist = [\"sudip\", \"shanta\", \"devprasad\", \"sujata\", \"sujan\"]\n",
    "thislist.sort()\n",
    "print(thislist)\n"
   ]
  },
  {
   "cell_type": "code",
   "execution_count": 33,
   "metadata": {},
   "outputs": [
    {
     "name": "stdout",
     "output_type": "stream",
     "text": [
      "[23, 50, 65, 82, 100]\n"
     ]
    }
   ],
   "source": [
    "#Sort the list numerically:\n",
    "thislist = [100, 50, 65, 82, 23]\n",
    "thislist.sort()\n",
    "print(thislist)"
   ]
  },
  {
   "cell_type": "markdown",
   "metadata": {},
   "source": [
    "Sort Descending\n",
    "To sort descending, use the keyword argument reverse = True:"
   ]
  },
  {
   "cell_type": "code",
   "execution_count": 34,
   "metadata": {},
   "outputs": [
    {
     "name": "stdout",
     "output_type": "stream",
     "text": [
      "['sujata', 'sujan', 'sudip', 'shanta', 'devprasad']\n"
     ]
    }
   ],
   "source": [
    "thislist = [\"sujan\", \"sujata\", \"sudip\", \"shanta\", \"devprasad\"]\n",
    "thislist.sort(reverse = True)\n",
    "print(thislist)"
   ]
  },
  {
   "cell_type": "markdown",
   "metadata": {},
   "source": [
    "* Customize Sort Function\n",
    "You can also customize your own function by using the keyword argument key = function.\n",
    "\n",
    "The function will return a number that will be used to sort the list (the lowest number first):"
   ]
  },
  {
   "cell_type": "code",
   "execution_count": 35,
   "metadata": {},
   "outputs": [
    {
     "name": "stdout",
     "output_type": "stream",
     "text": [
      "[50, 65, 23, 82, 100]\n"
     ]
    }
   ],
   "source": [
    "# Sort the list based on how close the number is t0 50\n",
    "def myfunc(n):\n",
    "  return abs(n - 50)\n",
    "\n",
    "thislist = [100, 50, 65, 82, 23]\n",
    "thislist.sort(key = myfunc)\n",
    "print(thislist)"
   ]
  },
  {
   "cell_type": "markdown",
   "metadata": {},
   "source": [
    "* Case Insensitive Sort\n",
    "By default the sort() method is case sensitive, resulting in all capital letters being sorted before lower case letters:\n",
    "\n",
    "Luckily we can use built-in functions as key functions when sorting a list.\n",
    "\n",
    "So if you want a case-insensitive sort function, use (str.lower) as a key function:"
   ]
  },
  {
   "cell_type": "code",
   "execution_count": 40,
   "metadata": {},
   "outputs": [
    {
     "name": "stdout",
     "output_type": "stream",
     "text": [
      "['shanta', 'sujan', 'sujata']\n"
     ]
    }
   ],
   "source": [
    "# Perform a case-insensitive sort of the list:\n",
    "\n",
    "thislist= [\"shanta\",\"sujan\",\"sujata\",]\n",
    "thislist.sort(key =str.lower)\n",
    "print(thislist)"
   ]
  },
  {
   "cell_type": "markdown",
   "metadata": {},
   "source": [
    "* reverse Order\n",
    "What if you want to reverse the order of a list, regardless of the alphabet?\n",
    "\n",
    "The reverse() method reverses the current sorting order of the elements."
   ]
  },
  {
   "cell_type": "code",
   "execution_count": 41,
   "metadata": {},
   "outputs": [
    {
     "name": "stdout",
     "output_type": "stream",
     "text": [
      "['forten', 'c++', 'java', 'phython']\n"
     ]
    }
   ],
   "source": [
    "#Reverse the order of the list items:\n",
    "thislist =[\"phython\",\"java\",\"c++\",\"forten\"]\n",
    "thislist.reverse()\n",
    "print(thislist)"
   ]
  },
  {
   "cell_type": "markdown",
   "metadata": {},
   "source": [
    "* Python - Copy Lists\n",
    "You cannot copy a list simply by typing list2 = list1, because: list2 will only be a reference to list1, and changes made in list1 will automatically also be made in list2.\n",
    "\n",
    "There are ways to make a copy, one way is to use the built-in List method .copy()"
   ]
  },
  {
   "cell_type": "code",
   "execution_count": 45,
   "metadata": {},
   "outputs": [
    {
     "name": "stdout",
     "output_type": "stream",
     "text": [
      "['i am perfer to learn coding more then studing nobel']\n"
     ]
    }
   ],
   "source": [
    "# Make a copy of a list with the copy() method:\n",
    "thislist =[\"i am perfer to learn coding more then studing nobel\"]\n",
    "mylist = thislist.copy()\n",
    "print(mylist)"
   ]
  },
  {
   "cell_type": "markdown",
   "metadata": {},
   "source": [
    "*  Join Two Lists\n",
    "There are several ways to join, or concatenate, two or more lists in Python.\n",
    "\n",
    "One of the easiest ways are by using the (+ operator)"
   ]
  },
  {
   "cell_type": "code",
   "execution_count": 48,
   "metadata": {},
   "outputs": [
    {
     "name": "stdout",
     "output_type": "stream",
     "text": [
      "my name is sudip gyawali \n",
      "i live in kathmandu kalanki\n"
     ]
    }
   ],
   "source": [
    "list1 =\"my name is sudip gyawali \\n\"\n",
    "list2 =\"i live in kathmandu kalanki\"\n",
    "list3 = list1+list2\n",
    "print(list3)"
   ]
  },
  {
   "cell_type": "code",
   "execution_count": 66,
   "metadata": {},
   "outputs": [
    {
     "name": "stdout",
     "output_type": "stream",
     "text": [
      "['sujan', 'sujata', 'sudip', 25, 24, 19]\n"
     ]
    }
   ],
   "source": [
    "# Another way to join two lists is by appending all the items from list2 into list1, one by one\n",
    "# example\n",
    "list1 = [\"sujan\",\"sujata\",\"sudip\"]\n",
    "list2 = [25,24,19]\n",
    "\n",
    "for x in list2:\n",
    "  list1.append(x)\n",
    "\n",
    "print(list1)"
   ]
  },
  {
   "cell_type": "code",
   "execution_count": 68,
   "metadata": {},
   "outputs": [
    {
     "name": "stdout",
     "output_type": "stream",
     "text": [
      "['a', 'b', 'c', 1, 2, 3]\n"
     ]
    }
   ],
   "source": [
    "# you can use the extend() method, where the purpose is to add elements from one list to another list\n",
    "#exmple\n",
    "\n",
    "# Use the extend() method to add list2 at the end of list1:\n",
    "list1 = [\"a\", \"b\" , \"c\"]\n",
    "list2 = [1, 2, 3]\n",
    "\n",
    "list1.extend(list2)\n",
    "print(list1)\n"
   ]
  },
  {
   "cell_type": "markdown",
   "metadata": {},
   "source": [
    "# List Methods\n",
    "Python has a set of built-in methods that you can use on lists.\n",
    "\n",
    "Method\t                 Description\n",
    "append()\t    Adds an element at the end of the list\n",
    "clear()\t        Removes all the elements from the list\n",
    "copy()\t        Returns a copy of the list\n",
    "count()\t        Returns the number of elements with the specified value\n",
    "extend()\t    Add the elements of a list (or any iterable), to the end of the current list\n",
    "index()\t        Returns the index of the first element with the specified value\n",
    "insert()\t    Adds an element at the specified position\n",
    "pop()\t        Removes the element at the specified position\n",
    "remove()\t    Removes the item with the specified value\n",
    "reverse()\t    Reverses the order of the list\n",
    "sort()\t        Sorts the list\n"
   ]
  },
  {
   "cell_type": "code",
   "execution_count": 76,
   "metadata": {},
   "outputs": [
    {
     "name": "stdout",
     "output_type": "stream",
     "text": [
      "banana\n",
      "cherry\n",
      "['cherry', 'orange', 'kiwi']\n",
      "3\n"
     ]
    }
   ],
   "source": [
    "# list exersice\n",
    "\n",
    "# Print the second item in the fruits list.\n",
    "fruits = [\"apple\", \"banana\", \"cherry\"]\n",
    "print(fruits[1])\n",
    "\n",
    "# Change the value from \"apple\" to \"kiwi\", in the fruits list.\n",
    "fruits = [\"apple\", \"banana\", \"cherry\"]\n",
    "fruits[0] =\"kiwi\"\n",
    "\n",
    "# Use the append method to add \"orange\" to the fruits list.\n",
    "fruits = [\"apple\", \"banana\", \"cherry\"]\n",
    "fruits.append(\"orange\")\n",
    "\n",
    "# Use the insert method to add \"lemon\" as the second item in the fruits list.\n",
    "\n",
    "fruits = [\"apple\", \"banana\", \"cherry\"]\n",
    "fruits.insert(1,\"leamon\")\n",
    "\n",
    "# Use the remove method to remove \"banana\" from the fruits list.\n",
    "\n",
    "fruits = [\"apple\", \"banana\", \"cherry\"]\n",
    "fruits.remove(\"banana\")\n",
    "\n",
    "# Use negative indexing to print the last item in the list.\n",
    "fruits = [\"apple\", \"banana\", \"cherry\"]\n",
    "print(fruits[-1])\n",
    "\n",
    "# Use a range of indexes to print the third, fourth, and fifth item in the list.\n",
    "\n",
    "fruits = [\"apple\", \"banana\", \"cherry\", \"orange\", \"kiwi\", \"melon\", \"mango\"]\n",
    "print(fruits[2:5])\n",
    "\n",
    "# Use the correct syntax to print the number of items in the list.\n",
    "\n",
    "fruits = [\"apple\", \"banana\", \"cherry\"]\n",
    "print(len(fruits))"
   ]
  },
  {
   "cell_type": "markdown",
   "metadata": {},
   "source": [
    "* T H A N K     Y O U"
   ]
  }
 ],
 "metadata": {
  "kernelspec": {
   "display_name": "Python 3",
   "language": "python",
   "name": "python3"
  },
  "language_info": {
   "codemirror_mode": {
    "name": "ipython",
    "version": 3
   },
   "file_extension": ".py",
   "mimetype": "text/x-python",
   "name": "python",
   "nbconvert_exporter": "python",
   "pygments_lexer": "ipython3",
   "version": "3.11.4"
  }
 },
 "nbformat": 4,
 "nbformat_minor": 2
}
