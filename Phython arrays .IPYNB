{
 "cells": [
  {
   "cell_type": "markdown",
   "metadata": {},
   "source": [
    "* W E L C O M E      I N         A R R A Y S         N O T E S"
   ]
  },
  {
   "cell_type": "markdown",
   "metadata": {},
   "source": [
    "* Python Arrays\n",
    "Note: Python does not have built-in support for Arrays, but Python Lists can be used instead."
   ]
  },
  {
   "cell_type": "markdown",
   "metadata": {},
   "source": [
    "* Arrays\n",
    "Note: This page shows you how to use LISTS as ARRAYS, however, to work with arrays in Python you will have to import a library, like the NumPy library.\n",
    "\n",
    "Arrays are used to store multiple values in one single variable:"
   ]
  },
  {
   "cell_type": "code",
   "execution_count": 12,
   "metadata": {},
   "outputs": [
    {
     "name": "stdout",
     "output_type": "stream",
     "text": [
      "['Ford', 'Volvo', 'BMW']\n"
     ]
    }
   ],
   "source": [
    "# Example\n",
    "# Create an array containing car names:\n",
    "\n",
    "cars = [\"Ford\", \"Volvo\", \"BMW\"]\n",
    "print(cars)"
   ]
  },
  {
   "cell_type": "markdown",
   "metadata": {},
   "source": [
    "* What is an Array?\n",
    "An array is a special variable, which can hold more than one value at a time.\n",
    "\n",
    "If you have a list of items (a list of car names, for example), storing the cars in single variables could look like this:\n",
    "\n",
    "car1 = \"Ford\"\n",
    "car2 = \"Volvo\"\n",
    "car3 = \"BMW\"\n",
    "However, what if you want to loop through the cars and find a specific one? And what if you had not 3 cars, but 300?\n",
    "\n",
    "The solution is an array!\n",
    "\n",
    "An array can hold many values under a single name, and you can access the values by referring to an index number.\n",
    "\n"
   ]
  },
  {
   "cell_type": "code",
   "execution_count": 19,
   "metadata": {},
   "outputs": [
    {
     "name": "stdout",
     "output_type": "stream",
     "text": [
      "Toyota\n"
     ]
    }
   ],
   "source": [
    "# Example\n",
    "# Get the value of the first array item:\n",
    "\n",
    "x = cars[0]\n",
    "print(x)\n",
    "\n",
    "#Modify the value of the first array item:\n",
    "cars[0] = \"Toyota\"\n",
    "\n",
    "#The Length of an Array\n",
    "#Use the len() method to return the length of an array (the number of elements in an array\n",
    "\n",
    "# Return the number of elements in the cars array:\n",
    "\n",
    "x = len(cars)\n"
   ]
  },
  {
   "cell_type": "markdown",
   "metadata": {},
   "source": [
    "* Looping Array Elements\n",
    "You can use the for in loop to loop through all the elements of an array."
   ]
  },
  {
   "cell_type": "code",
   "execution_count": 20,
   "metadata": {},
   "outputs": [
    {
     "name": "stdout",
     "output_type": "stream",
     "text": [
      "c\n",
      "a\n",
      "r\n",
      "s\n"
     ]
    }
   ],
   "source": [
    "# Print each item in the cars array:\n",
    "for x in \"cars\":\n",
    "    print(x)\n"
   ]
  },
  {
   "cell_type": "markdown",
   "metadata": {},
   "source": [
    "* Adding Array Elements\n",
    "You can use the append() method to add an element to an array."
   ]
  },
  {
   "cell_type": "code",
   "execution_count": null,
   "metadata": {},
   "outputs": [],
   "source": [
    "# Add one more element to the cars array:\n",
    "\n",
    "cars.append(\"Honda\")\n",
    "\n",
    "# Removing Array Elements\n",
    "#You can use the pop() method to remove an element from the array.\n",
    "\n",
    "#Example\n",
    "#Delete the second element of the cars array:\n",
    "\n",
    "cars.pop(1)\n",
    "\n",
    "# Delete the element that has the value \"Volvo\":\n",
    "\n",
    "cars.remove(\"Volvo\")"
   ]
  },
  {
   "cell_type": "markdown",
   "metadata": {},
   "source": [
    "* Array Methods\n",
    "Python has a set of built-in methods that you can use on lists/arrays.\n",
    "\n",
    "Method\t          Description\n",
    "append()\t   Adds an element at the end of the list\n",
    "clear()\t       Removes all the elements from the list\n",
    "copy()\t       Returns a copy of the list\n",
    "count()\t       Returns the number of elements with the specified value\n",
    "extend()\t   Add the elements of a list (or any iterable), to the end of the current list\n",
    "index()\t       Returns the index of the first element with the specified value\n",
    "insert()\t   Adds an element at the specified position\n",
    "pop()\t       Removes the element at the specified position\n",
    "remove()\t   Removes the first item with the specified value\n",
    "reverse()\t   Reverses the order of the list\n",
    "sort()\t        Sorts the list\n",
    "\n",
    "Note: Python does not have built-in support for Arrays, but Python Lists can be used instead."
   ]
  },
  {
   "cell_type": "markdown",
   "metadata": {},
   "source": [
    "*               T h a n k        y o u"
   ]
  }
 ],
 "metadata": {
  "kernelspec": {
   "display_name": "Python 3",
   "language": "python",
   "name": "python3"
  },
  "language_info": {
   "codemirror_mode": {
    "name": "ipython",
    "version": 3
   },
   "file_extension": ".py",
   "mimetype": "text/x-python",
   "name": "python",
   "nbconvert_exporter": "python",
   "pygments_lexer": "ipython3",
   "version": "3.11.4"
  }
 },
 "nbformat": 4,
 "nbformat_minor": 2
}
