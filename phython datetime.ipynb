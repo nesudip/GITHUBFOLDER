{
 "cells": [
  {
   "cell_type": "markdown",
   "metadata": {},
   "source": [
    "* what is phython date time ?\n",
    "# Python Dates\n",
    "A date in Python is not a data type of its own, but we can import a module named datetime to work with dates as date objects."
   ]
  },
  {
   "cell_type": "code",
   "execution_count": 4,
   "metadata": {},
   "outputs": [
    {
     "name": "stdout",
     "output_type": "stream",
     "text": [
      "2024-06-25 23:17:42.530092\n",
      "2024\n",
      "Tuesday\n"
     ]
    }
   ],
   "source": [
    "#example\n",
    "#Import the datetime module and display the current date:\n",
    "\n",
    "import datetime\n",
    "\n",
    "x = datetime.datetime.now()\n",
    "print(x)\n",
    "\n",
    "#Return the year and name of weekday:\n",
    "\n",
    "import datetime\n",
    "\n",
    "x = datetime.datetime.now()\n",
    "\n",
    "print(x.year)\n",
    "print(x.strftime(\"%A\"))\n"
   ]
  },
  {
   "cell_type": "markdown",
   "metadata": {},
   "source": [
    "* Creating Date Objects\n",
    "To create a date, we can use the datetime() class (constructor) of the datetime module.\n",
    "\n",
    "The datetime() class requires three parameters to create a date: year, month, day."
   ]
  },
  {
   "cell_type": "code",
   "execution_count": 7,
   "metadata": {},
   "outputs": [
    {
     "name": "stdout",
     "output_type": "stream",
     "text": [
      "2062-08-21 00:00:00\n"
     ]
    }
   ],
   "source": [
    "# Create a date object:\n",
    "\n",
    "import datetime\n",
    "\n",
    "x = datetime.datetime(2062, 8, 21)\n",
    "\n",
    "print(x)"
   ]
  },
  {
   "cell_type": "markdown",
   "metadata": {},
   "source": [
    "* The strftime() Method\n",
    "The datetime object has a method for formatting date objects into readable strings.\n",
    "\n",
    "The method is called strftime(), and takes one parameter, format, to specify the format of the returned string:"
   ]
  },
  {
   "cell_type": "code",
   "execution_count": 16,
   "metadata": {},
   "outputs": [
    {
     "name": "stdout",
     "output_type": "stream",
     "text": [
      "Jun\n"
     ]
    }
   ],
   "source": [
    "# Display the name of the month:\n",
    "\n",
    "import datetime\n",
    "\n",
    "x = datetime.datetime(2024, 6, 1)\n",
    "\n",
    "print(x.strftime(\"%b\"))\n"
   ]
  },
  {
   "cell_type": "markdown",
   "metadata": {},
   "source": [
    "* A reference of all the legal format codes:\n",
    "\n",
    "Directive\t         Description\t                              Example\t\n",
    "%a\t            Weekday, short version\t                           Wed\t\n",
    "%A\t            Weekday, full version\t                         Wednesday\t\n",
    "%w\t            Weekday as a number 0-6, 0 is Sunday\t            3\t\n",
    "%d\t            Day of month 01-31\t                                31\t\n",
    "%b\t            Month name, short version\t                        Dec\t\n",
    "%B\t            Month name, full version\t                     December\t\n",
    "%m\t            Month as a number 01-12\t                            12\t\n",
    "%y\t            Year, short version, without century\t            18\t\n",
    "%Y\t            Year, full version\t                               2018\t\n",
    "%H\t            Hour 00-23\t                                        17\t\n",
    "%I\t            Hour 00-12\t                                        05\t\n",
    "%p\t            AM/PM\t                                            PM\t\n",
    "%M\t            Minute 00-59\t                                    41\t\n",
    "%S\t            Second 00-59\t                                    08\t\n",
    "%f\t            Microsecond 000000-999999\t                        548513\t\n",
    "%z\t            UTC offset                                      \t+0100\t\n",
    "%Z\t            Timezone\t                                         CST\t\n",
    "%j\t            Day number of year 001-366\t365\t\n",
    "%U\t     Week number of year, Sunday as the first day of week, 00-53   52\t\n",
    "%W        Week number of year, Monday as the first day of week, 00-53\t52\t\n",
    "%c        Local version of date and time\t                    Mon Dec 31 17:41:00 2018\t\n",
    "%C\tCentury\t20\t\n",
    "%x\tLocal version of date\t                                         12/31/18\t\n",
    "%X\tLocal version of time\t                                         17:41:00\t\n",
    "%%\tA % character\t                                                     %\t\n",
    "%G\tISO 8601 year\t                                                    2018\t\n",
    "%u\tISO 8601 weekday                                                   (1-7)\t1\t\n",
    "%V\tISO 8601 weeknumber                                               (01-53)\t01\t\n"
   ]
  }
 ],
 "metadata": {
  "kernelspec": {
   "display_name": "Python 3",
   "language": "python",
   "name": "python3"
  },
  "language_info": {
   "codemirror_mode": {
    "name": "ipython",
    "version": 3
   },
   "file_extension": ".py",
   "mimetype": "text/x-python",
   "name": "python",
   "nbconvert_exporter": "python",
   "pygments_lexer": "ipython3",
   "version": "3.12.4"
  }
 },
 "nbformat": 4,
 "nbformat_minor": 2
}
