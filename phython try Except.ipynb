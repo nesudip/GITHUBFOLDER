{
 "cells": [
  {
   "cell_type": "markdown",
   "metadata": {},
   "source": [
    "# Python Try Except\n",
    "The try block lets you test a block of code for errors.\n",
    "\n",
    "The except block lets you handle the error.\n",
    "\n",
    "The else block lets you execute code when there is no error.\n",
    "\n",
    "The finally block lets you execute code, regardless of the result of the try- and except blocks."
   ]
  },
  {
   "cell_type": "markdown",
   "metadata": {},
   "source": [
    "# Exception Handling\n",
    "When an error occurs, or exception as we call it, Python will normally stop and generate an error message.\n",
    "\n",
    "These exceptions can be handled using the try statement:"
   ]
  },
  {
   "cell_type": "code",
   "execution_count": 1,
   "metadata": {},
   "outputs": [
    {
     "name": "stdout",
     "output_type": "stream",
     "text": [
      "An exception occurred\n"
     ]
    }
   ],
   "source": [
    "#ExampleGet your own Python Server\n",
    "# The try block will generate an exception, because x is not defined:\n",
    "\n",
    "try:\n",
    "  print(x)\n",
    "except:\n",
    "  print(\"An exception occurred\")"
   ]
  },
  {
   "cell_type": "markdown",
   "metadata": {},
   "source": [
    "# Since the try block raises an error, the except block will be executed.\n",
    "\n",
    "Without the try block, the program will crash and raise an error:"
   ]
  },
  {
   "cell_type": "markdown",
   "metadata": {},
   "source": [
    "# Many Exceptions\n",
    "You can define as many exception blocks as you want, e.g. if you want to execute a special block of code for a special kind of error:"
   ]
  },
  {
   "cell_type": "code",
   "execution_count": 9,
   "metadata": {},
   "outputs": [
    {
     "name": "stdout",
     "output_type": "stream",
     "text": [
      "Variable x is not defined\n"
     ]
    }
   ],
   "source": [
    "# Print one message if the try block raises a NameError and another for other errors:\n",
    "\n",
    "try:\n",
    "  print(x)\n",
    "except NameError:\n",
    "  print(\"Variable x is not defined\")\n",
    "except:\n",
    "  print(\"Something else went wrong\")"
   ]
  },
  {
   "cell_type": "markdown",
   "metadata": {},
   "source": [
    "# Else\n",
    "You can use the else keyword to define a block of code to be executed if no errors were raised:"
   ]
  },
  {
   "cell_type": "code",
   "execution_count": 10,
   "metadata": {},
   "outputs": [
    {
     "name": "stdout",
     "output_type": "stream",
     "text": [
      "my name is sudip\n",
      "there is not any error\n"
     ]
    }
   ],
   "source": [
    "# In this example, the try block does not generate any error:\n",
    "try:\n",
    "    print(\"my name is sudip\")\n",
    "except:\n",
    "    print(\"some variable are missing\")\n",
    "else:\n",
    "    print(\"there is not any error\")"
   ]
  },
  {
   "cell_type": "markdown",
   "metadata": {},
   "source": [
    "# Finally\n",
    "The finally block, if specified, will be executed regardless if the try block raises an error or not."
   ]
  },
  {
   "cell_type": "code",
   "execution_count": 12,
   "metadata": {},
   "outputs": [
    {
     "name": "stdout",
     "output_type": "stream",
     "text": [
      "Something went wrong\n",
      "The 'try except' is finished\n"
     ]
    }
   ],
   "source": [
    "try:\n",
    "  print(x)\n",
    "except:\n",
    "  print(\"Something went wrong\")\n",
    "finally:\n",
    "  print(\"The 'try except' is finished\")\n",
    "\n",
    "  #This can be useful to close objects and clean up resources:"
   ]
  },
  {
   "cell_type": "code",
   "execution_count": 13,
   "metadata": {},
   "outputs": [
    {
     "name": "stdout",
     "output_type": "stream",
     "text": [
      "Something went wrong when opening the file\n"
     ]
    }
   ],
   "source": [
    "# Try to open and write to a file that is not writable:\n",
    "\n",
    "try:\n",
    "  f = open(\"demofile.txt\")\n",
    "  try:\n",
    "    f.write(\"Lorum Ipsum\")\n",
    "  except:\n",
    "    print(\"Something went wrong when writing to the file\")\n",
    "  finally:\n",
    "    f.close()\n",
    "except:\n",
    "  print(\"Something went wrong when opening the file\")\n",
    "\n",
    "  #The program can continue, without leaving the file object open."
   ]
  },
  {
   "cell_type": "markdown",
   "metadata": {},
   "source": [
    "# Raise an exception\n",
    "As a Python developer you can choose to throw an exception if a condition occurs.\n",
    "\n",
    "To throw (or raise) an exception, use the (raise) keyword."
   ]
  },
  {
   "cell_type": "code",
   "execution_count": 30,
   "metadata": {},
   "outputs": [
    {
     "name": "stdout",
     "output_type": "stream",
     "text": [
      "Exception: Sorry, no numbers below zero\n"
     ]
    }
   ],
   "source": [
    "try:\n",
    "    x = -1\n",
    "    if x < 0:\n",
    "        raise Exception(\"Sorry, no numbers below zero\")\n",
    "except Exception as e:\n",
    "    print(\"Exception:\", e)\n",
    "    # Handle the exception here as needed\n",
    "    "
   ]
  },
  {
   "cell_type": "markdown",
   "metadata": {},
   "source": [
    "# The raise keyword is used to raise an exception.\n",
    "\n",
    "You can define what kind of error to raise, and the text to print to the user."
   ]
  },
  {
   "cell_type": "code",
   "execution_count": 38,
   "metadata": {},
   "outputs": [
    {
     "name": "stdout",
     "output_type": "stream",
     "text": [
      "x is a string.\n"
     ]
    }
   ],
   "source": [
    "x = \"hello\"\n",
    "\n",
    "if not isinstance(x, int):\n",
    "    if isinstance(x, str):\n",
    "        print(\"x is a string.\")\n",
    "    else:\n",
    "        raise TypeError(\"Only integers are allowed\")\n"
   ]
  },
  {
   "cell_type": "markdown",
   "metadata": {},
   "source": [
    "                       * T H A N K     Y O U"
   ]
  }
 ],
 "metadata": {
  "kernelspec": {
   "display_name": "Python 3",
   "language": "python",
   "name": "python3"
  },
  "language_info": {
   "codemirror_mode": {
    "name": "ipython",
    "version": 3
   },
   "file_extension": ".py",
   "mimetype": "text/x-python",
   "name": "python",
   "nbconvert_exporter": "python",
   "pygments_lexer": "ipython3",
   "version": "3.12.4"
  }
 },
 "nbformat": 4,
 "nbformat_minor": 2
}
